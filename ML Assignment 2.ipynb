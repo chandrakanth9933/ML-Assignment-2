{
  "nbformat": 4,
  "nbformat_minor": 0,
  "metadata": {
    "colab": {
      "provenance": []
    },
    "kernelspec": {
      "name": "python3",
      "display_name": "Python 3"
    },
    "language_info": {
      "name": "python"
    }
  },
  "cells": [
    {
      "cell_type": "code",
      "execution_count": 25,
      "metadata": {
        "colab": {
          "base_uri": "https://localhost:8080/"
        },
        "id": "tlopHKB7aVMK",
        "outputId": "101f277e-9ec8-4df8-e4f2-cf5bc36a4320"
      },
      "outputs": [
        {
          "output_type": "stream",
          "name": "stdout",
          "text": [
            "\n",
            "*\n",
            "**\n",
            "***\n",
            "****\n",
            "*****\n",
            "****\n",
            "***\n",
            "**\n",
            "*\n"
          ]
        }
      ],
      "source": [
        "#Question 1\n",
        "\n",
        "# Use a python code to display the following star pattern using the for loop\n",
        "\n",
        "# *\n",
        "# * *\n",
        "# * * *\n",
        "# * * * *\n",
        "# * * * * *\n",
        "# * * * *\n",
        "# * * *\n",
        "# * *\n",
        "# *\n",
        "\n",
        "\n",
        "\n",
        "length = 6\n",
        "for j in range(0,length):\n",
        "    print(\"*\"*j)\n",
        "for k in range(j-1, 0, -1):\n",
        "    print(\"*\"*k)\n",
        "\n"
      ]
    },
    {
      "cell_type": "code",
      "source": [
        "# Question 2\n",
        "# Use looping to output the elements from a provided list present at odd indexes.\n",
        "# my_list = [10, 20, 30, 40, 50, 60, 70, 80, 90, 100]\n",
        "\n",
        "\n",
        "my_list = [10, 20, 30, 40, 50, 60, 70, 80, 90, 100]\n",
        "for j in range(0, len(my_list)):\n",
        "    if j%2 != 0:\n",
        "        print(my_list[j])\n",
        "\n"
      ],
      "metadata": {
        "colab": {
          "base_uri": "https://localhost:8080/"
        },
        "id": "-I37b5R5bbWw",
        "outputId": "7bb9ff22-2981-4f10-8add-abd345da2756"
      },
      "execution_count": 28,
      "outputs": [
        {
          "output_type": "stream",
          "name": "stdout",
          "text": [
            "20\n",
            "40\n",
            "60\n",
            "80\n",
            "100\n"
          ]
        }
      ]
    },
    {
      "cell_type": "code",
      "source": [
        "# Write a code that appends the type of elements from a given list.\n",
        "# Input\n",
        "# x = [23, ‘Python’, 23.98]\n",
        "\n",
        "n=[23,'Python',23.98]\n",
        "x=[]\n",
        "for i in range (len(n)):\n",
        "  x.append(type(n[i]))\n",
        "print(n)\n",
        "print(x)"
      ],
      "metadata": {
        "colab": {
          "base_uri": "https://localhost:8080/"
        },
        "id": "vUeWuvmscn3l",
        "outputId": "54adb9d1-b7e6-46dd-9bbe-a17400e7d78b"
      },
      "execution_count": 21,
      "outputs": [
        {
          "output_type": "stream",
          "name": "stdout",
          "text": [
            "[23, 'Python', 23.98]\n",
            "[<class 'int'>, <class 'str'>, <class 'float'>]\n"
          ]
        }
      ]
    },
    {
      "cell_type": "code",
      "source": [
        "#Write a function that takes a list and returns a new list with unique items of the first list.\n",
        "# Sample List: [1,2,3,3,3,3,4,5]\n",
        "\n",
        "x=[1,2,3,3,3,3,4,5]\n",
        "def fun(list1):\n",
        "    list2 = list(set(list1))\n",
        "    return list2\n",
        "result = fun(x)\n",
        "print(result)"
      ],
      "metadata": {
        "colab": {
          "base_uri": "https://localhost:8080/"
        },
        "id": "thnKTsZKdDVY",
        "outputId": "99088cb7-5aed-44ed-e61c-1948261d9b40"
      },
      "execution_count": 35,
      "outputs": [
        {
          "output_type": "stream",
          "name": "stdout",
          "text": [
            "[1, 2, 3, 4, 5]\n"
          ]
        }
      ]
    },
    {
      "cell_type": "code",
      "source": [
        "# Write a function that accepts a string and calculate the number of upper-case letters and lower-case letters.\n",
        "# Input String: 'The quick Brow Fox'\n",
        "\n",
        "x='The quick Brow Fox'\n",
        "def fun2(s1):\n",
        "    upper = 0\n",
        "    lower = 0\n",
        "    for i in s1:\n",
        "        if i.isupper():\n",
        "            upper =upper+ 1\n",
        "        elif i == ' ':\n",
        "            continue\n",
        "        else:\n",
        "            lower =lower+ 1\n",
        "    print('No. of Upper-case characters: ' + str(upper) + '\\n' + 'No. of Lower-case Characters:' + str(lower))\n",
        "fun2(x)"
      ],
      "metadata": {
        "colab": {
          "base_uri": "https://localhost:8080/"
        },
        "id": "3H9GhzhXgZPu",
        "outputId": "0564347e-25e2-448b-b83c-8cb949138a1c"
      },
      "execution_count": 40,
      "outputs": [
        {
          "output_type": "stream",
          "name": "stdout",
          "text": [
            "No. of Upper-case characters: 3\n",
            "No. of Lower-case Characters:12\n"
          ]
        }
      ]
    }
  ]
}